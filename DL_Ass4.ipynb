{
 "cells": [
  {
   "cell_type": "code",
   "execution_count": 1,
   "id": "fbd74a4f",
   "metadata": {},
   "outputs": [],
   "source": [
    "import pandas as pd\n",
    "import numpy as np\n",
    "import pickle\n",
    "import matplotlib.pyplot as plt\n",
    "import tensorflow as tf\n",
    "import seaborn as sns\n",
    "from sklearn.model_selection import train_test_split\n",
    "from sklearn.preprocessing import StandardScaler\n",
    "from sklearn.metrics import confusion_matrix\n",
    "from keras.models import Model, load_model, Sequential\n",
    "from keras.layers import Input, Dense\n",
    "from keras.callbacks import ModelCheckpoint, TensorBoard"
   ]
  },
  {
   "cell_type": "code",
   "execution_count": 2,
   "id": "054cd836",
   "metadata": {},
   "outputs": [],
   "source": [
    "%matplotlib inline\n",
    "sns.set(style='whitegrid')"
   ]
  },
  {
   "cell_type": "code",
   "execution_count": 3,
   "id": "035c0148",
   "metadata": {},
   "outputs": [],
   "source": [
    "df = pd.read_csv(\"creditcard.csv\")"
   ]
  },
  {
   "cell_type": "code",
   "execution_count": 4,
   "id": "a78d8b97",
   "metadata": {},
   "outputs": [],
   "source": [
    "df = df.drop(['Time'], axis=1)"
   ]
  },
  {
   "cell_type": "code",
   "execution_count": 5,
   "id": "b17c63ce",
   "metadata": {},
   "outputs": [],
   "source": [
    "df['Amount'] = StandardScaler().fit_transform(df['Amount'].values.reshape(-1, 1))"
   ]
  },
  {
   "cell_type": "code",
   "execution_count": 6,
   "id": "899c3f3f",
   "metadata": {},
   "outputs": [],
   "source": [
    "df_fraud = df[df['Class']==1]\n",
    "df_normal = df[df['Class']==0]\n",
    "df_normal = df_normal.sample(frac = 1.0).reset_index(drop = True) #Just shuffling\n",
    "df_normal_1 = df_normal.iloc[:int(df_normal.shape[0]*0.8),:] #80% of normal data for training\n",
    "df_normal_2 = df_normal.iloc[int(df_normal.shape[0]*0.8):,:] #20% of normal data to merge with fraudulent (test set)"
   ]
  },
  {
   "cell_type": "code",
   "execution_count": 7,
   "id": "d2d6f6b4",
   "metadata": {},
   "outputs": [],
   "source": [
    "X_test = pd.concat([df_fraud,df_normal_2], axis = 0)\n",
    "X_test = X_test.sample(frac = 1.0).reset_index(drop = True) #Just shuffling\n",
    " \n",
    "#Separate in input and target variables\n",
    "X_train = df_normal_1[df_normal_1['Class'] == 0]\n",
    "X_train = X_train.drop(['Class'], axis=1)\n",
    " \n",
    "y_test = X_test['Class']\n",
    "X_test = X_test.drop(['Class'], axis=1)"
   ]
  },
  {
   "cell_type": "code",
   "execution_count": 8,
   "id": "38dc0f48",
   "metadata": {},
   "outputs": [],
   "source": [
    "#Build the Neural Network\n",
    "input_dim = X_train.shape[1]\n",
    "encoding_dim = 14\n",
    " \n",
    "model = Sequential()\n",
    "model.add(Dense(29,input_dim = input_dim, activation=\"relu\"))\n",
    "model.add(Dense(14, activation=\"relu\"))\n",
    "model.add(Dense(7, activation=\"relu\"))\n",
    "model.add(Dense(14, activation=\"relu\"))\n",
    "model.add(Dense(input_dim, activation=\"sigmoid\"))\n",
    "model.compile(optimizer='adam', loss='mean_squared_error', metrics=['accuracy'])"
   ]
  },
  {
   "cell_type": "code",
   "execution_count": 9,
   "id": "4ac7e502",
   "metadata": {},
   "outputs": [
    {
     "name": "stdout",
     "output_type": "stream",
     "text": [
      "Model: \"sequential\"\n",
      "_________________________________________________________________\n",
      " Layer (type)                Output Shape              Param #   \n",
      "=================================================================\n",
      " dense (Dense)               (None, 29)                870       \n",
      "                                                                 \n",
      " dense_1 (Dense)             (None, 14)                420       \n",
      "                                                                 \n",
      " dense_2 (Dense)             (None, 7)                 105       \n",
      "                                                                 \n",
      " dense_3 (Dense)             (None, 14)                112       \n",
      "                                                                 \n",
      " dense_4 (Dense)             (None, 29)                435       \n",
      "                                                                 \n",
      "=================================================================\n",
      "Total params: 1,942\n",
      "Trainable params: 1,942\n",
      "Non-trainable params: 0\n",
      "_________________________________________________________________\n"
     ]
    }
   ],
   "source": [
    "model.summary()"
   ]
  },
  {
   "cell_type": "code",
   "execution_count": 10,
   "id": "9db6bce2",
   "metadata": {},
   "outputs": [],
   "source": [
    "#Fit the autoencoder and check loss for train and test\n",
    "checkpointer = ModelCheckpoint(filepath=\"nae.h5\", verbose=0, save_best_only=True)"
   ]
  },
  {
   "cell_type": "code",
   "execution_count": 11,
   "id": "dbd87c00",
   "metadata": {},
   "outputs": [
    {
     "name": "stderr",
     "output_type": "stream",
     "text": [
      "2022-11-13 11:06:42.785232: W tensorflow/core/framework/cpu_allocator_impl.cc:82] Allocation of 52768864 exceeds 10% of free system memory.\n",
      "2022-11-13 11:06:42.917663: W tensorflow/core/framework/cpu_allocator_impl.cc:82] Allocation of 52768864 exceeds 10% of free system memory.\n"
     ]
    },
    {
     "name": "stdout",
     "output_type": "stream",
     "text": [
      "Epoch 1/100\n",
      "7108/7108 [==============================] - 22s 3ms/step - loss: 0.8860 - accuracy: 0.4492 - val_loss: 1.1019 - val_accuracy: 0.4743\n",
      "Epoch 2/100\n",
      "7108/7108 [==============================] - 19s 3ms/step - loss: 0.8518 - accuracy: 0.4771 - val_loss: 1.0907 - val_accuracy: 0.4847\n",
      "Epoch 3/100\n",
      "7108/7108 [==============================] - 19s 3ms/step - loss: 0.8442 - accuracy: 0.4858 - val_loss: 1.0869 - val_accuracy: 0.4881\n",
      "Epoch 4/100\n",
      "7108/7108 [==============================] - 20s 3ms/step - loss: 0.8408 - accuracy: 0.4909 - val_loss: 1.0866 - val_accuracy: 0.4891\n",
      "Epoch 5/100\n",
      "7108/7108 [==============================] - 20s 3ms/step - loss: 0.8388 - accuracy: 0.4934 - val_loss: 1.0844 - val_accuracy: 0.4829\n",
      "Epoch 6/100\n",
      "7108/7108 [==============================] - 20s 3ms/step - loss: 0.8367 - accuracy: 0.4919 - val_loss: 1.0824 - val_accuracy: 0.4833\n",
      "Epoch 7/100\n",
      "7108/7108 [==============================] - 19s 3ms/step - loss: 0.8348 - accuracy: 0.4913 - val_loss: 1.0810 - val_accuracy: 0.5006\n",
      "Epoch 8/100\n",
      "7108/7108 [==============================] - 19s 3ms/step - loss: 0.8333 - accuracy: 0.4899 - val_loss: 1.0805 - val_accuracy: 0.4753\n",
      "Epoch 9/100\n",
      "7108/7108 [==============================] - 20s 3ms/step - loss: 0.8297 - accuracy: 0.4856 - val_loss: 1.0814 - val_accuracy: 0.4687\n",
      "Epoch 10/100\n",
      "7108/7108 [==============================] - 20s 3ms/step - loss: 0.8275 - accuracy: 0.4851 - val_loss: 1.0774 - val_accuracy: 0.4778\n",
      "Epoch 11/100\n",
      "7108/7108 [==============================] - 20s 3ms/step - loss: 0.8266 - accuracy: 0.4844 - val_loss: 1.0777 - val_accuracy: 0.4818\n",
      "Epoch 12/100\n",
      "7108/7108 [==============================] - 20s 3ms/step - loss: 0.8258 - accuracy: 0.4933 - val_loss: 1.0727 - val_accuracy: 0.4870\n",
      "Epoch 13/100\n",
      "7108/7108 [==============================] - 20s 3ms/step - loss: 0.8253 - accuracy: 0.4963 - val_loss: 1.0731 - val_accuracy: 0.4971\n",
      "Epoch 14/100\n",
      "7108/7108 [==============================] - 20s 3ms/step - loss: 0.8247 - accuracy: 0.4972 - val_loss: 1.0719 - val_accuracy: 0.4930\n",
      "Epoch 15/100\n",
      "7108/7108 [==============================] - 20s 3ms/step - loss: 0.8233 - accuracy: 0.4962 - val_loss: 1.0703 - val_accuracy: 0.4909\n",
      "Epoch 16/100\n",
      "7108/7108 [==============================] - 20s 3ms/step - loss: 0.8226 - accuracy: 0.4945 - val_loss: 1.0694 - val_accuracy: 0.4901\n",
      "Epoch 17/100\n",
      "7108/7108 [==============================] - 20s 3ms/step - loss: 0.8217 - accuracy: 0.4975 - val_loss: 1.0705 - val_accuracy: 0.4825\n",
      "Epoch 18/100\n",
      "7108/7108 [==============================] - 20s 3ms/step - loss: 0.8212 - accuracy: 0.4989 - val_loss: 1.0688 - val_accuracy: 0.4890\n",
      "Epoch 19/100\n",
      "7108/7108 [==============================] - 20s 3ms/step - loss: 0.8206 - accuracy: 0.5009 - val_loss: 1.0683 - val_accuracy: 0.5051\n",
      "Epoch 20/100\n",
      "7108/7108 [==============================] - 20s 3ms/step - loss: 0.8203 - accuracy: 0.5023 - val_loss: 1.0679 - val_accuracy: 0.5014\n",
      "Epoch 21/100\n",
      "7108/7108 [==============================] - 20s 3ms/step - loss: 0.8200 - accuracy: 0.5084 - val_loss: 1.0678 - val_accuracy: 0.5032\n",
      "Epoch 22/100\n",
      "7108/7108 [==============================] - 20s 3ms/step - loss: 0.8197 - accuracy: 0.5221 - val_loss: 1.0688 - val_accuracy: 0.5207\n",
      "Epoch 23/100\n",
      "7108/7108 [==============================] - 20s 3ms/step - loss: 0.8183 - accuracy: 0.5260 - val_loss: 1.0657 - val_accuracy: 0.5165\n",
      "Epoch 24/100\n",
      "7108/7108 [==============================] - 20s 3ms/step - loss: 0.8174 - accuracy: 0.5240 - val_loss: 1.0669 - val_accuracy: 0.5143\n",
      "Epoch 25/100\n",
      "7108/7108 [==============================] - 20s 3ms/step - loss: 0.8170 - accuracy: 0.5252 - val_loss: 1.0648 - val_accuracy: 0.5250\n",
      "Epoch 26/100\n",
      "7108/7108 [==============================] - 20s 3ms/step - loss: 0.8156 - accuracy: 0.5281 - val_loss: 1.0648 - val_accuracy: 0.5243\n",
      "Epoch 27/100\n",
      "7108/7108 [==============================] - 20s 3ms/step - loss: 0.8141 - accuracy: 0.5325 - val_loss: 1.0625 - val_accuracy: 0.5292\n",
      "Epoch 28/100\n",
      "7108/7108 [==============================] - 20s 3ms/step - loss: 0.8129 - accuracy: 0.5387 - val_loss: 1.0623 - val_accuracy: 0.5352\n",
      "Epoch 29/100\n",
      "7108/7108 [==============================] - 20s 3ms/step - loss: 0.8121 - accuracy: 0.5431 - val_loss: 1.0618 - val_accuracy: 0.5383\n",
      "Epoch 30/100\n",
      "7108/7108 [==============================] - 20s 3ms/step - loss: 0.8114 - accuracy: 0.5473 - val_loss: 1.0592 - val_accuracy: 0.5486\n",
      "Epoch 31/100\n",
      "7108/7108 [==============================] - 20s 3ms/step - loss: 0.8108 - accuracy: 0.5495 - val_loss: 1.0596 - val_accuracy: 0.5467\n",
      "Epoch 32/100\n",
      "7108/7108 [==============================] - 19s 3ms/step - loss: 0.8103 - accuracy: 0.5524 - val_loss: 1.0598 - val_accuracy: 0.5539\n",
      "Epoch 33/100\n",
      "7108/7108 [==============================] - 19s 3ms/step - loss: 0.8099 - accuracy: 0.5561 - val_loss: 1.0580 - val_accuracy: 0.5509\n",
      "Epoch 34/100\n",
      "7108/7108 [==============================] - 20s 3ms/step - loss: 0.8097 - accuracy: 0.5571 - val_loss: 1.0585 - val_accuracy: 0.5592\n",
      "Epoch 35/100\n",
      "7108/7108 [==============================] - 19s 3ms/step - loss: 0.8090 - accuracy: 0.5589 - val_loss: 1.0579 - val_accuracy: 0.5502\n",
      "Epoch 36/100\n",
      "7108/7108 [==============================] - 19s 3ms/step - loss: 0.8086 - accuracy: 0.5610 - val_loss: 1.0569 - val_accuracy: 0.5645\n",
      "Epoch 37/100\n",
      "7108/7108 [==============================] - 22s 3ms/step - loss: 0.8082 - accuracy: 0.5626 - val_loss: 1.0563 - val_accuracy: 0.5547\n",
      "Epoch 38/100\n",
      "7108/7108 [==============================] - 19s 3ms/step - loss: 0.8080 - accuracy: 0.5636 - val_loss: 1.0563 - val_accuracy: 0.5540\n",
      "Epoch 39/100\n",
      "7108/7108 [==============================] - 20s 3ms/step - loss: 0.8076 - accuracy: 0.5662 - val_loss: 1.0555 - val_accuracy: 0.5720\n",
      "Epoch 40/100\n",
      "7108/7108 [==============================] - 20s 3ms/step - loss: 0.8074 - accuracy: 0.5689 - val_loss: 1.0536 - val_accuracy: 0.5732\n",
      "Epoch 41/100\n",
      "7108/7108 [==============================] - 20s 3ms/step - loss: 0.8071 - accuracy: 0.5731 - val_loss: 1.0553 - val_accuracy: 0.5749\n",
      "Epoch 42/100\n",
      "7108/7108 [==============================] - 19s 3ms/step - loss: 0.8069 - accuracy: 0.5729 - val_loss: 1.0549 - val_accuracy: 0.5803\n",
      "Epoch 43/100\n",
      "7108/7108 [==============================] - 19s 3ms/step - loss: 0.8067 - accuracy: 0.5726 - val_loss: 1.0551 - val_accuracy: 0.5735\n",
      "Epoch 44/100\n",
      "7108/7108 [==============================] - 20s 3ms/step - loss: 0.8065 - accuracy: 0.5783 - val_loss: 1.0528 - val_accuracy: 0.5780\n",
      "Epoch 45/100\n",
      "7108/7108 [==============================] - 19s 3ms/step - loss: 0.8062 - accuracy: 0.5785 - val_loss: 1.0536 - val_accuracy: 0.5734\n",
      "Epoch 46/100\n",
      "7108/7108 [==============================] - 19s 3ms/step - loss: 0.8061 - accuracy: 0.5776 - val_loss: 1.0531 - val_accuracy: 0.5689\n",
      "Epoch 47/100\n",
      "7108/7108 [==============================] - 19s 3ms/step - loss: 0.8058 - accuracy: 0.5763 - val_loss: 1.0529 - val_accuracy: 0.5772\n",
      "Epoch 48/100\n",
      "7108/7108 [==============================] - 19s 3ms/step - loss: 0.8056 - accuracy: 0.5776 - val_loss: 1.0537 - val_accuracy: 0.5731\n",
      "Epoch 49/100\n",
      "7108/7108 [==============================] - 19s 3ms/step - loss: 0.8053 - accuracy: 0.5754 - val_loss: 1.0529 - val_accuracy: 0.5756\n",
      "Epoch 50/100\n",
      "7108/7108 [==============================] - 19s 3ms/step - loss: 0.8049 - accuracy: 0.5744 - val_loss: 1.0516 - val_accuracy: 0.5727\n",
      "Epoch 51/100\n",
      "7108/7108 [==============================] - 19s 3ms/step - loss: 0.8044 - accuracy: 0.5735 - val_loss: 1.0499 - val_accuracy: 0.5701\n",
      "Epoch 52/100\n",
      "7108/7108 [==============================] - 19s 3ms/step - loss: 0.8029 - accuracy: 0.5783 - val_loss: 1.0489 - val_accuracy: 0.5790\n",
      "Epoch 53/100\n",
      "7108/7108 [==============================] - 19s 3ms/step - loss: 0.8011 - accuracy: 0.5830 - val_loss: 1.0460 - val_accuracy: 0.5884\n",
      "Epoch 54/100\n",
      "7108/7108 [==============================] - 19s 3ms/step - loss: 0.8001 - accuracy: 0.5823 - val_loss: 1.0458 - val_accuracy: 0.5832\n",
      "Epoch 55/100\n",
      "7108/7108 [==============================] - 19s 3ms/step - loss: 0.7991 - accuracy: 0.5804 - val_loss: 1.0531 - val_accuracy: 0.5636\n",
      "Epoch 56/100\n",
      "7108/7108 [==============================] - 19s 3ms/step - loss: 0.7986 - accuracy: 0.5789 - val_loss: 1.0474 - val_accuracy: 0.5651\n"
     ]
    },
    {
     "name": "stdout",
     "output_type": "stream",
     "text": [
      "Epoch 57/100\n",
      "7108/7108 [==============================] - 19s 3ms/step - loss: 0.7984 - accuracy: 0.5775 - val_loss: 1.0447 - val_accuracy: 0.5794\n",
      "Epoch 58/100\n",
      "7108/7108 [==============================] - 20s 3ms/step - loss: 0.7976 - accuracy: 0.5774 - val_loss: 1.0437 - val_accuracy: 0.5751\n",
      "Epoch 59/100\n",
      "7108/7108 [==============================] - 20s 3ms/step - loss: 0.7969 - accuracy: 0.5785 - val_loss: 1.0438 - val_accuracy: 0.5755\n",
      "Epoch 60/100\n",
      "7108/7108 [==============================] - 20s 3ms/step - loss: 0.7965 - accuracy: 0.5749 - val_loss: 1.0421 - val_accuracy: 0.5755\n",
      "Epoch 61/100\n",
      "7108/7108 [==============================] - 19s 3ms/step - loss: 0.7962 - accuracy: 0.5760 - val_loss: 1.0427 - val_accuracy: 0.5756\n",
      "Epoch 62/100\n",
      "7108/7108 [==============================] - 20s 3ms/step - loss: 0.7960 - accuracy: 0.5759 - val_loss: 1.0425 - val_accuracy: 0.5646\n",
      "Epoch 63/100\n",
      "7108/7108 [==============================] - 20s 3ms/step - loss: 0.7949 - accuracy: 0.5765 - val_loss: 1.0406 - val_accuracy: 0.5856\n",
      "Epoch 64/100\n",
      "7108/7108 [==============================] - 20s 3ms/step - loss: 0.7926 - accuracy: 0.5754 - val_loss: 1.0385 - val_accuracy: 0.5725\n",
      "Epoch 65/100\n",
      "7108/7108 [==============================] - 19s 3ms/step - loss: 0.7918 - accuracy: 0.5741 - val_loss: 1.0392 - val_accuracy: 0.5810\n",
      "Epoch 66/100\n",
      "7108/7108 [==============================] - 20s 3ms/step - loss: 0.7914 - accuracy: 0.5768 - val_loss: 1.0379 - val_accuracy: 0.5648\n",
      "Epoch 67/100\n",
      "7108/7108 [==============================] - 19s 3ms/step - loss: 0.7912 - accuracy: 0.5769 - val_loss: 1.0391 - val_accuracy: 0.5748\n",
      "Epoch 68/100\n",
      "7108/7108 [==============================] - 19s 3ms/step - loss: 0.7913 - accuracy: 0.5757 - val_loss: 1.0380 - val_accuracy: 0.5752\n",
      "Epoch 69/100\n",
      "7108/7108 [==============================] - 19s 3ms/step - loss: 0.7909 - accuracy: 0.5774 - val_loss: 1.0392 - val_accuracy: 0.5713\n",
      "Epoch 70/100\n",
      "7108/7108 [==============================] - 20s 3ms/step - loss: 0.7906 - accuracy: 0.5813 - val_loss: 1.0363 - val_accuracy: 0.5756\n",
      "Epoch 71/100\n",
      "7108/7108 [==============================] - 19s 3ms/step - loss: 0.7893 - accuracy: 0.5833 - val_loss: 1.0376 - val_accuracy: 0.5919\n",
      "Epoch 72/100\n",
      "7108/7108 [==============================] - 19s 3ms/step - loss: 0.7889 - accuracy: 0.5850 - val_loss: 1.0367 - val_accuracy: 0.5952\n",
      "Epoch 73/100\n",
      "7108/7108 [==============================] - 19s 3ms/step - loss: 0.7886 - accuracy: 0.5889 - val_loss: 1.0366 - val_accuracy: 0.5948\n",
      "Epoch 74/100\n",
      "7108/7108 [==============================] - 20s 3ms/step - loss: 0.7885 - accuracy: 0.5899 - val_loss: 1.0363 - val_accuracy: 0.5842\n",
      "Epoch 75/100\n",
      "7108/7108 [==============================] - 19s 3ms/step - loss: 0.7883 - accuracy: 0.5904 - val_loss: 1.0352 - val_accuracy: 0.5920\n",
      "Epoch 76/100\n",
      "7108/7108 [==============================] - 19s 3ms/step - loss: 0.7882 - accuracy: 0.5918 - val_loss: 1.0353 - val_accuracy: 0.5932\n",
      "Epoch 77/100\n",
      "7108/7108 [==============================] - 20s 3ms/step - loss: 0.7881 - accuracy: 0.5915 - val_loss: 1.0346 - val_accuracy: 0.5938\n",
      "Epoch 78/100\n",
      "7108/7108 [==============================] - 20s 3ms/step - loss: 0.7880 - accuracy: 0.5932 - val_loss: 1.0348 - val_accuracy: 0.5837\n",
      "Epoch 79/100\n",
      "7108/7108 [==============================] - 20s 3ms/step - loss: 0.7880 - accuracy: 0.5910 - val_loss: 1.0358 - val_accuracy: 0.5957\n",
      "Epoch 80/100\n",
      "7108/7108 [==============================] - 20s 3ms/step - loss: 0.7880 - accuracy: 0.5939 - val_loss: 1.0346 - val_accuracy: 0.5906\n",
      "Epoch 81/100\n",
      "7108/7108 [==============================] - 20s 3ms/step - loss: 0.7882 - accuracy: 0.5939 - val_loss: 1.0350 - val_accuracy: 0.5900\n",
      "Epoch 82/100\n",
      "7108/7108 [==============================] - 20s 3ms/step - loss: 0.7880 - accuracy: 0.5945 - val_loss: 1.0344 - val_accuracy: 0.5944\n",
      "Epoch 83/100\n",
      "7108/7108 [==============================] - 19s 3ms/step - loss: 0.7879 - accuracy: 0.5955 - val_loss: 1.0346 - val_accuracy: 0.5976\n",
      "Epoch 84/100\n",
      "7108/7108 [==============================] - 19s 3ms/step - loss: 0.7879 - accuracy: 0.5926 - val_loss: 1.0353 - val_accuracy: 0.5919\n",
      "Epoch 85/100\n",
      "7108/7108 [==============================] - 19s 3ms/step - loss: 0.7877 - accuracy: 0.5921 - val_loss: 1.0360 - val_accuracy: 0.5918\n",
      "Epoch 86/100\n",
      "7108/7108 [==============================] - 19s 3ms/step - loss: 0.7878 - accuracy: 0.5915 - val_loss: 1.0342 - val_accuracy: 0.5857\n",
      "Epoch 87/100\n",
      "7108/7108 [==============================] - 19s 3ms/step - loss: 0.7878 - accuracy: 0.5902 - val_loss: 1.0353 - val_accuracy: 0.5877\n",
      "Epoch 88/100\n",
      "7108/7108 [==============================] - 19s 3ms/step - loss: 0.7877 - accuracy: 0.5927 - val_loss: 1.0351 - val_accuracy: 0.5833\n",
      "Epoch 89/100\n",
      "7108/7108 [==============================] - 19s 3ms/step - loss: 0.7878 - accuracy: 0.5918 - val_loss: 1.0371 - val_accuracy: 0.5916\n",
      "Epoch 90/100\n",
      "7108/7108 [==============================] - 19s 3ms/step - loss: 0.7876 - accuracy: 0.5951 - val_loss: 1.0351 - val_accuracy: 0.5948\n",
      "Epoch 91/100\n",
      "7108/7108 [==============================] - 19s 3ms/step - loss: 0.7877 - accuracy: 0.5902 - val_loss: 1.0345 - val_accuracy: 0.5802\n",
      "Epoch 92/100\n",
      "7108/7108 [==============================] - 19s 3ms/step - loss: 0.7877 - accuracy: 0.5925 - val_loss: 1.0339 - val_accuracy: 0.5865\n",
      "Epoch 93/100\n",
      "7108/7108 [==============================] - 19s 3ms/step - loss: 0.7876 - accuracy: 0.5923 - val_loss: 1.0345 - val_accuracy: 0.5875\n",
      "Epoch 94/100\n",
      "7108/7108 [==============================] - 19s 3ms/step - loss: 0.7878 - accuracy: 0.5934 - val_loss: 1.0341 - val_accuracy: 0.5849\n",
      "Epoch 95/100\n",
      "7108/7108 [==============================] - 19s 3ms/step - loss: 0.7876 - accuracy: 0.5900 - val_loss: 1.0338 - val_accuracy: 0.5779\n",
      "Epoch 96/100\n",
      "7108/7108 [==============================] - 19s 3ms/step - loss: 0.7877 - accuracy: 0.5923 - val_loss: 1.0346 - val_accuracy: 0.5896\n",
      "Epoch 97/100\n",
      "7108/7108 [==============================] - 19s 3ms/step - loss: 0.7875 - accuracy: 0.5943 - val_loss: 1.0352 - val_accuracy: 0.5911\n",
      "Epoch 98/100\n",
      "7108/7108 [==============================] - 19s 3ms/step - loss: 0.7875 - accuracy: 0.5921 - val_loss: 1.0337 - val_accuracy: 0.5927\n",
      "Epoch 99/100\n",
      "7108/7108 [==============================] - 19s 3ms/step - loss: 0.7876 - accuracy: 0.5900 - val_loss: 1.0428 - val_accuracy: 0.5786\n",
      "Epoch 100/100\n",
      "7108/7108 [==============================] - 19s 3ms/step - loss: 0.7874 - accuracy: 0.5920 - val_loss: 1.0334 - val_accuracy: 0.5914\n"
     ]
    }
   ],
   "source": [
    "#Save history to plot learning curves\n",
    "history = model.fit(X_train, X_train,\n",
    "epochs=100,\n",
    "batch_size=32,\n",
    "shuffle=True,\n",
    "validation_data=(X_test, X_test),\n",
    "verbose=1,\n",
    "callbacks=[checkpointer]).history\n",
    " \n",
    "autoencoder = load_model('nae.h5')\n",
    " "
   ]
  },
  {
   "cell_type": "code",
   "execution_count": 12,
   "id": "20d6c132",
   "metadata": {},
   "outputs": [
    {
     "data": {
      "text/plain": [
       "Text(0.5, 0, 'epoch')"
      ]
     },
     "execution_count": 12,
     "metadata": {},
     "output_type": "execute_result"
    },
    {
     "data": {
      "image/png": "[encoded data removed]",
      "text/plain": [
       "<Figure size 640x480 with 1 Axes>"
      ]
     },
     "metadata": {},
     "output_type": "display_data"
    }
   ],
   "source": [
    "#Plot losses\n",
    "plt.plot(history['loss'])\n",
    "plt.plot(history['val_loss'])\n",
    "plt.title('model loss')\n",
    "plt.ylabel('loss')\n",
    "plt.xlabel('epoch')"
   ]
  },
  {
   "cell_type": "code",
   "execution_count": 13,
   "id": "9313f6ac",
   "metadata": {},
   "outputs": [
    {
     "name": "stdout",
     "output_type": "stream",
     "text": [
      "1793/1793 [==============================] - 4s 2ms/step\n"
     ]
    }
   ],
   "source": [
    "#Predict on test set\n",
    "predictions = model.predict(X_test)\n",
    " \n",
    "mse = np.mean(np.power(X_test - predictions, 2), axis=1)\n",
    "error_df = pd.DataFrame({'mse': mse,'fraud': y_test})"
   ]
  },
  {
   "cell_type": "code",
   "execution_count": 14,
   "id": "082bf9cb",
   "metadata": {},
   "outputs": [],
   "source": [
    "#Set an error threshold above which a transaction is considered fraud\n",
    "threshold = 4.5\n",
    "error_df['pred_01'] = [1 if e > threshold else 0 for e in error_df['mse'].values]\n",
    "conf_mat = confusion_matrix(error_df['fraud'], error_df['pred_01'])"
   ]
  },
  {
   "cell_type": "code",
   "execution_count": 17,
   "id": "3548b9f2",
   "metadata": {},
   "outputs": [
    {
     "data": {
      "text/plain": [
       "[Text(0, 0.5, 'Normal'), Text(0, 1.5, 'Fraud')]"
      ]
     },
     "execution_count": 17,
     "metadata": {},
     "output_type": "execute_result"
    },
    {
     "data": {
      "image/png": "[encoded data removed]",
      "text/plain": [
       "<Figure size 640x480 with 2 Axes>"
      ]
     },
     "metadata": {},
     "output_type": "display_data"
    }
   ],
   "source": [
    "#Print confusion matrix for the given threshold\n",
    "ax= plt.subplot()\n",
    "sns.heatmap(conf_mat, annot=True, fmt=\"g\", cmap=\"YlGnBu\")\n",
    "# labels, title and ticks\n",
    "ax.set_xlabel('Predicted labels');ax.set_ylabel('True labels');\n",
    "ax.set_title('Confusion Matrix');\n",
    "ax.set_ylim([0,2])\n",
    "ax.xaxis.set_ticklabels([\"Normal\", \"Fraud\"]); ax.yaxis.set_ticklabels([\"Normal\", \"Fraud\"])"
   ]
  },
  {
   "cell_type": "code",
   "execution_count": 16,
   "id": "e7a33acc",
   "metadata": {},
   "outputs": [
    {
     "data": {
      "text/plain": [
       "[Text(0, 0.5, 'Normal'), Text(0, 1.5, 'Fraud')]"
      ]
     },
     "execution_count": 16,
     "metadata": {},
     "output_type": "execute_result"
    }
   ],
   "source": [
    "\n"
   ]
  },
  {
   "cell_type": "code",
   "execution_count": null,
   "id": "6ac3127a",
   "metadata": {},
   "outputs": [],
   "source": []
  }
 ],
 "metadata": {
  "kernelspec": {
   "display_name": "Python 3 (ipykernel)",
   "language": "python",
   "name": "python3"
  },
  "language_info": {
   "codemirror_mode": {
    "name": "ipython",
    "version": 3
   },
   "file_extension": ".py",
   "mimetype": "text/x-python",
   "name": "python",
   "nbconvert_exporter": "python",
   "pygments_lexer": "ipython3",
   "version": "3.9.13"
  }
 },
 "nbformat": 4,
 "nbformat_minor": 5
}
